{
 "cells": [
  {
   "cell_type": "markdown",
   "metadata": {},
   "source": [
    "<h2>Deploying Dash application using  [Heroku](https://dashboard.heroku.com/apps)</h2>"
   ]
  },
  {
   "cell_type": "markdown",
   "metadata": {},
   "source": [
    "Heroku was one of the first platform as a service providers. It started as a hosting option for Ruby based applications, but then grew to support many other languages like Java, Node.js and our favorite, Python.\n",
    "\n",
    "In essence, deploying a web application to Heroku requires just uploading the application using git. Heroku looks for a file called Procfile in the application's root directory for instructions on how to execute the application. For Python projects Heroku also expects a requirements.txt file that lists all the module dependencies that need to be installed."
   ]
  },
  {
   "cell_type": "markdown",
   "metadata": {},
   "source": [
    "<p><strong><!-- react-text: 4442 -->Step 1. Create an account in [Github](http://www.github.com)<!-- /react-text --></strong></p>\n",
    "\n",
    "<a href=\"https://github.com/join\"  class=\"btn btn-sm btn-primary\" data-ga-click=\"Dashboard, click, Sidebar header new repo button - context:user\">Sign up for GitHub</a>\n",
    "\n",
    "\n",
    "<p><strong> Step 2. Create a new Repository in </strong></p>\n",
    "\n",
    "<a href=\"http://www.github.com/new\" class=\"btn btn-sm btn-primary\" data-ga-click=\"Dashboard, click, Sidebar header new repo button - context:user\">New repository</a>\n",
    "\n",
    "* call it `dash_app_example`\n",
    "* Check: `Initialize this repository with a README``\n",
    "* Add .gitignore: Python\n",
    "\n",
    "<p><strong> Step 3. Clone your repository </strong></p>\n",
    "\n",
    "* Find this button:\n",
    "\n",
    "<details class=\"get-repo-select-menu js-menu-container float-right position-relative dropdown-details details-reset\" open=\"\">\n",
    "  <summary class=\"btn btn-sm btn-primary\">\n",
    "    Clone or download\n",
    "    <span class=\"dropdown-caret\"></span>\n",
    "  </summary>\n",
    "</details>\n",
    "\n",
    "* And select Open in Desktop. Shortly the github desktop application will be downloaded. \n",
    "* Choose a local folder called `dash_app_example` for cloning the remote repository\n",
    "\n",
    "\n",
    "<p><strong>Step 4. Download your app notebook as py :</strong></p>\n",
    "\n",
    "* Open your notebook Dash application\n",
    "* Replace `app = dash.Dash()` line with:\n",
    "```\n",
    "    app = dash.Dash(__name__)\n",
    "    server = app.server\n",
    "```\n",
    "* add an external css adding this line, after previous one :\n",
    "\n",
    "```\n",
    "    app.css.append_css({\"external_url\": \"https://codepen.io/chriddyp/pen/bWLwgP.css\"})\n",
    "\n",
    "```\n",
    "* Go to File -> Download as -> Python (.py) \n",
    "* save as `app.py` into `dash_app_example` folder\n",
    "\n",
    "\n",
    "\n",
    "\n",
    "\n",
    "\n"
   ]
  },
  {
   "cell_type": "markdown",
   "metadata": {},
   "source": [
    "<strong>Step 5. Creating Heroku account</strong>\n",
    "\n",
    "Before we can deploy to Heroku we need to have an account with them. So head over to [www.heroku.com](http://www.heroku.com) and create an account.\n",
    "Once you are logged in you have access to a dashboard, where all your apps can be managed. \n",
    "\n",
    "<strong>Step 6 Installing the Heroku client</strong>\n",
    "\n",
    "Heroku offers a tool called the \"Heroku client\" that we'll use to create and manage our application. This tool is available for Windows, Mac OS X and Linux. If there is a [Heroku toolbelt](https://toolbelt.heroku.com/) download for your platform then that's the easiest way to get the Heroku client tool installed.\n",
    "\n",
    "The first thing we should do with the client tool is to login to our account:\n",
    "\n",
    "    $ heroku login\n",
    "\n",
    "\n"
   ]
  },
  {
   "cell_type": "markdown",
   "metadata": {},
   "source": [
    "<strong>Step 7 Creating a Heroku app</strong>\n",
    "\n",
    "To create a new Heroku app you just use the create command from the root directory of the application:\n",
    "\n",
    "> $ heroku apps:create dask-app-example\n",
    "\n",
    "Or clicking the **NEW** button in Heroku web application\n",
    "\n",
    "Of course the name dask-app-example is now taken, so make sure you use a different app name."
   ]
  },
  {
   "cell_type": "markdown",
   "metadata": {},
   "source": [
    "<strong>Step 8. Creating the requirements.txt file</strong>\n",
    "\n",
    "* create a requirements.txt with all pyhon packages dependences:\n",
    "\n",
    "```\n",
    "plotly==2.2.1\n",
    "dash==0.19.0\n",
    "dash-core-components==0.14.0\n",
    "dash-html-components==0.8.0\n",
    "dash-renderer==0.11.1\n",
    "dash.ly==0.17.3\n",
    "pandas==0.19.1\n",
    "gunicorn==19.6.0\n",
    "```\n",
    "\n",
    "Heroku does not provide a web server. Instead, it expects the application to start its own server on the port number given in environment variable $PORT.\n",
    "\n",
    "We know the Flask web server is not good for production use because it is single process and single threaded, so we need a better server. The Heroku tutorial for Python suggests `gunicorn`, a pre-fork style web server written in Python, so that's the one we'll use.\n",
    "\n",
    "The `gunicorn` web server needs to be added to the `requirements.txt` inside the app directory\n",
    "\n"
   ]
  },
  {
   "cell_type": "markdown",
   "metadata": {},
   "source": [
    "<strong>Step 9. Creating Procfile file</strong>\n",
    "\n",
    "The last requirement is to tell Heroku how to run the application. For this Heroku requires a file called `Procfile` in the root folder of the application.\n",
    "\n",
    "This file is extremely simple, it just defines process names and the commands associated with them (file `Procfile`):\n",
    "\n",
    "    web: gunicorn app:server\n",
    "\n",
    "(Note that app refers to the filename app.py. server refers to the variable server inside that file. The web label is associated with the web server. Heroku expects this task and will use it to start our application.)\n"
   ]
  },
  {
   "cell_type": "markdown",
   "metadata": {},
   "source": [
    "    \n",
    "<p><strong>Step 10. Push changes to remote repository:</strong></p>\n",
    "\n",
    "Go to Github Desktop and commit and push the new python file:\n",
    "* Add a Summary (a message telling what modifications you did to your code)\n",
    "* Click the commit to master button\n",
    "* Click on the push origin tab "
   ]
  },
  {
   "cell_type": "markdown",
   "metadata": {},
   "source": [
    "<p><strong>Step 11. Deploying the application:</strong></p>\n",
    "\n",
    "And now, we push the application to our Heroku hosting account. It can be done using the heroku web application:\n",
    "*  Go to the deployment panel (up arrow) \n",
    "* Scroll down until you find \"Deployment method\" and select GITHUB\n",
    "* Find your repo and connect it\n",
    "* Pick the master branch and deploy it\n",
    "\n",
    "\n",
    "If the process worked well, now the application is online: \n",
    "\n",
    "    Your app was successfully deployed.\n",
    "\n",
    "[https://dask-app-example.herokuapp.com/](https://dask-app-example.herokuapp.com/)"
   ]
  }
 ],
 "metadata": {
  "kernelspec": {
   "display_name": "Python 3",
   "language": "python",
   "name": "python3"
  },
  "language_info": {
   "codemirror_mode": {
    "name": "ipython",
    "version": 3
   },
   "file_extension": ".py",
   "mimetype": "text/x-python",
   "name": "python",
   "nbconvert_exporter": "python",
   "pygments_lexer": "ipython3",
   "version": "3.6.5"
  }
 },
 "nbformat": 4,
 "nbformat_minor": 2
}
